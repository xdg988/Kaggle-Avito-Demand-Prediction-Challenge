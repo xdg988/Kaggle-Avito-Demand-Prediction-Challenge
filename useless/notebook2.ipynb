{
 "cells": [
  {
   "cell_type": "code",
   "execution_count": 2,
   "metadata": {},
   "outputs": [
    {
     "name": "stdout",
     "output_type": "stream",
     "text": [
      "Transforming image_top_1...\n",
      "Transforming param_1...\n",
      "Transforming param_2...\n",
      "Transforming param_3...\n",
      "Transforming city...\n",
      "Transforming region...\n",
      "Transforming category_name...\n",
      "Transforming parent_category_name...\n",
      "Transforming user_type...\n",
      "Number of features: 122989\n"
     ]
    },
    {
     "data": {
      "text/plain": [
       "42"
      ]
     },
     "execution_count": 2,
     "metadata": {},
     "output_type": "execute_result"
    }
   ],
   "source": [
    "import pandas as pd\n",
    "import numpy as np\n",
    "import gc\n",
    "from tqdm import tqdm\n",
    "import matplotlib.pyplot as plt\n",
    "import seaborn as sns\n",
    "#from matplotlib_venn import venn2, venn2_circles\n",
    "from sklearn.cross_validation import cross_val_score\n",
    "from bayes_opt import BayesianOptimization\n",
    "import string\n",
    "from sklearn.model_selection import train_test_split\n",
    "from sklearn.metrics import mean_squared_error\n",
    "from sklearn.preprocessing import LabelEncoder\n",
    "from sklearn.feature_extraction.text import CountVectorizer, TfidfVectorizer\n",
    "import nltk\n",
    "from nltk.corpus import stopwords\n",
    "import scipy\n",
    "import lightgbm as lgb\n",
    "from lightgbm import LGBMRegressor\n",
    "from sklearn.metrics import mean_squared_error\n",
    "from math import sqrt\n",
    "from sklearn.linear_model import Ridge\n",
    "from sklearn.cross_validation import KFold\n",
    "import time\n",
    "\n",
    "NFOLDS = 5\n",
    "SEED = 42\n",
    "#-------------------------------------\n",
    "test = pd.read_csv('/home/g492652607/data/test.csv')\n",
    "train = pd.read_csv('/home/g492652607/data/train.csv')\n",
    "gp = pd.read_csv('/home/g492652607/data/aggregated_features.csv') \n",
    "train = train.merge(gp, on='user_id', how='left')\n",
    "test = test.merge(gp, on='user_id', how='left')\n",
    "\n",
    "ntrain = train.shape[0]\n",
    "ntest = test.shape[0]\n",
    "agg_cols = list(gp.columns)[1:]\n",
    "\n",
    "del gp\n",
    "gc.collect()\n",
    "#------------------------------------\n",
    "blend = pd.read_csv('/home/g492652607/data/blend.csv') \n",
    "train=train.merge(blend, on='item_id', how='left')\n",
    "test=test.merge(blend, on='item_id', how='left')\n",
    "idx=blend['item_id']\n",
    "del blend \n",
    "gc.collect()\n",
    "#----------------------------------\n",
    "for df in [train, test]:\n",
    "    df['description'].fillna('unknowndesc', inplace=True)\n",
    "    df['title'].fillna('unknowntitle', inplace=True)\n",
    "\n",
    "    df['weekday'] = pd.to_datetime(df['activation_date']).dt.weekday\n",
    " #   df['dayofmonth'] = pd.to_datetime(df['activation_date']).dt.day\n",
    "    \n",
    "    for col in ['description', 'title']:\n",
    "        df['num_words_' + col] = df[col].apply(lambda comment: len(comment.split()))\n",
    "        df['num_unique_words_' + col] = df[col].apply(lambda comment: len(set(w for w in comment.split())))\n",
    "\n",
    "    df['words_vs_unique_title'] = df['num_unique_words_title'] / df['num_words_title'] * 100\n",
    "    df['words_vs_unique_description'] = df['num_unique_words_description'] / df['num_words_description'] * 100\n",
    "    \n",
    "    df['city'] = df['region'] + '_' + df['city']\n",
    "    df['num_desc_punct'] = df['description'].apply(lambda x: len([c for c in str(x) if c in string.punctuation]))\n",
    "    \n",
    "    for col in agg_cols:\n",
    "        df[col].fillna(-1, inplace=True)\n",
    "#---------------------------------------------\n",
    "count_vectorizer_title = CountVectorizer(stop_words=stopwords.words('russian'), lowercase=True, min_df=2)\n",
    "\n",
    "title_counts = count_vectorizer_title.fit_transform(train['title'].append(test['title']))\n",
    "\n",
    "train_title_counts = title_counts[:len(train)]\n",
    "test_title_counts = title_counts[len(train):]\n",
    "\n",
    "\n",
    "count_vectorizer_desc = TfidfVectorizer(stop_words=stopwords.words('russian'), \n",
    "                                        lowercase=True, ngram_range=(1, 2),\n",
    "                                        max_features=17000)\n",
    "\n",
    "desc_counts = count_vectorizer_desc.fit_transform(train['description'].append(test['description']))\n",
    "\n",
    "train_desc_counts = desc_counts[:len(train)]\n",
    "test_desc_counts = desc_counts[len(train):]\n",
    "\n",
    "#---------------------------------------------\n",
    "target = 'deal_probability'\n",
    "predictors = [\n",
    "    'num_desc_punct',\n",
    "    'words_vs_unique_description', 'num_unique_words_description', 'num_unique_words_title', 'num_words_description', 'num_words_title',\n",
    "    'avg_times_up_user', 'avg_days_up_user', 'n_user_items', \n",
    "    'price', 'item_seq_number', 'user_price_aver', 'user_price_std', 'user_seq_aver', 'user_seq_std',\n",
    "    'user_id_parent_category_name_category_name_count', \n",
    "    'user_id_parent_category_name_category_name_aver_pri',\n",
    "    'region_city_parent_category_name_category_name_count','rnn_pred','t','d','ridge_pred','cb_pred'\n",
    "]\n",
    "categorical = [\n",
    "    'image_top_1', 'param_1', 'param_2', 'param_3', \n",
    "    'city', 'region', 'category_name', 'parent_category_name', 'user_type'\n",
    "]\n",
    "predictors = predictors + categorical\n",
    "#--------------------------------------------\n",
    "for feature in categorical:\n",
    "    print(f'Transforming {feature}...')\n",
    "    encoder = LabelEncoder()\n",
    "    train[feature].fillna('unknown',inplace=True)\n",
    "    test[feature].fillna('unknown',inplace=True)\n",
    "    encoder.fit(train[feature].append(test[feature]).astype(str))\n",
    "    \n",
    "    train[feature] = encoder.transform(train[feature].astype(str))\n",
    "    test[feature] = encoder.transform(test[feature].astype(str))\n",
    "#--------------------------------------------------------\n",
    "train[\"price\"] = np.log(train[\"price\"]+0.001)\n",
    "train[\"price\"].fillna(-999,inplace=True)\n",
    "train[\"image_top_1\"].fillna(-999,inplace=True)\n",
    "\n",
    "test[\"price\"] = np.log(test[\"price\"]+0.001)\n",
    "test[\"price\"].fillna(-999,inplace=True)\n",
    "test[\"image_top_1\"].fillna(-999,inplace=True)\n",
    "#--------------------------------------------\n",
    "feature_names = np.hstack([\n",
    "    count_vectorizer_desc.get_feature_names(),\n",
    "    count_vectorizer_title.get_feature_names(),\n",
    "    predictors\n",
    "])\n",
    "print('Number of features:', len(feature_names))\n",
    "\n",
    "X = scipy.sparse.hstack([\n",
    "    train_desc_counts,\n",
    "    train_title_counts,\n",
    "    train.loc[: , predictors]\n",
    "], format='csr')\n",
    "y = train.deal_probability\n",
    "\n",
    "del test, train_desc_counts, train_title_counts, train, test_desc_counts, test_title_counts\n",
    "gc.collect()"
   ]
  },
  {
   "cell_type": "code",
   "execution_count": null,
   "metadata": {},
   "outputs": [
    {
     "name": "stdout",
     "output_type": "stream",
     "text": [
      "\u001b[31mInitialization\u001b[0m\n",
      "\u001b[94m-------------------------------------------------------------------------------------------------------------------------------------\u001b[0m\n",
      " Step |   Time |      Value |   colsample_bytree |   min_child_weight |   min_split_gain |   num_leaves |   reg_alpha |   subsample | \n",
      "    1 | 03m36s | \u001b[35m  -0.04760\u001b[0m | \u001b[32m            0.2313\u001b[0m | \u001b[32m            2.7595\u001b[0m | \u001b[32m          1.1188\u001b[0m | \u001b[32m    821.1594\u001b[0m | \u001b[32m     3.5534\u001b[0m | \u001b[32m     0.5726\u001b[0m | \n",
      "    2 | 02m58s |   -0.04808 |             0.1631 |             7.4462 |           3.4677 |     782.6866 |      2.0087 |      0.6590 | \n",
      "    3 | 02m49s | \u001b[35m  -0.04742\u001b[0m | \u001b[32m            0.8790\u001b[0m | \u001b[32m            4.0844\u001b[0m | \u001b[32m          1.3921\u001b[0m | \u001b[32m     78.8646\u001b[0m | \u001b[32m     9.7490\u001b[0m | \u001b[32m     0.9809\u001b[0m | \n",
      "    4 | 01m59s |   -0.04781 |             0.8456 |             5.3198 |           4.5433 |     513.2922 |      7.7398 |      0.5787 | \n",
      "    5 | 01m46s |   -0.04787 |             0.3728 |             1.0041 |           5.0645 |     130.4369 |      6.4890 |      0.5359 | \n"
     ]
    },
    {
     "name": "stderr",
     "output_type": "stream",
     "text": [
      "/home/g492652607/anaconda3/lib/python3.6/site-packages/sklearn/gaussian_process/gpr.py:335: UserWarning: Predicted variances smaller than 0. Setting those variances to 0.\n",
      "  warnings.warn(\"Predicted variances smaller than 0. \"\n"
     ]
    },
    {
     "name": "stdout",
     "output_type": "stream",
     "text": [
      "\u001b[31mBayesian Optimization\u001b[0m\n",
      "\u001b[94m-------------------------------------------------------------------------------------------------------------------------------------\u001b[0m\n",
      " Step |   Time |      Value |   colsample_bytree |   min_child_weight |   min_split_gain |   num_leaves |   reg_alpha |   subsample | \n",
      "    6 | 02m43s |   -0.04787 |             0.9158 |             0.2099 |           7.2992 |    1023.3958 |      9.6841 |      0.8116 | \n"
     ]
    },
    {
     "name": "stderr",
     "output_type": "stream",
     "text": [
      "/home/g492652607/anaconda3/lib/python3.6/site-packages/sklearn/gaussian_process/gpr.py:457: UserWarning: fmin_l_bfgs_b terminated abnormally with the  state: {'grad': array([-0.00024073]), 'task': b'ABNORMAL_TERMINATION_IN_LNSRCH', 'funcalls': 49, 'nit': 5, 'warnflag': 2}\n",
      "  \" state: %s\" % convergence_dict)\n",
      "/home/g492652607/anaconda3/lib/python3.6/site-packages/sklearn/gaussian_process/gpr.py:335: UserWarning: Predicted variances smaller than 0. Setting those variances to 0.\n",
      "  warnings.warn(\"Predicted variances smaller than 0. \"\n"
     ]
    },
    {
     "name": "stdout",
     "output_type": "stream",
     "text": [
      "    7 | 08m38s | \u001b[35m  -0.04692\u001b[0m | \u001b[32m            0.7393\u001b[0m | \u001b[32m            0.4364\u001b[0m | \u001b[32m          0.2137\u001b[0m | \u001b[32m    700.4648\u001b[0m | \u001b[32m     9.2812\u001b[0m | \u001b[32m     0.9946\u001b[0m | \n"
     ]
    },
    {
     "name": "stderr",
     "output_type": "stream",
     "text": [
      "/home/g492652607/anaconda3/lib/python3.6/site-packages/sklearn/gaussian_process/gpr.py:335: UserWarning: Predicted variances smaller than 0. Setting those variances to 0.\n",
      "  warnings.warn(\"Predicted variances smaller than 0. \"\n"
     ]
    },
    {
     "name": "stdout",
     "output_type": "stream",
     "text": [
      "    8 | 03m56s |   -0.04732 |             0.8356 |             2.1071 |           0.8963 |     796.3722 |      9.5712 |      0.7783 | \n"
     ]
    },
    {
     "name": "stderr",
     "output_type": "stream",
     "text": [
      "/home/g492652607/anaconda3/lib/python3.6/site-packages/sklearn/gaussian_process/gpr.py:335: UserWarning: Predicted variances smaller than 0. Setting those variances to 0.\n",
      "  warnings.warn(\"Predicted variances smaller than 0. \"\n"
     ]
    },
    {
     "name": "stdout",
     "output_type": "stream",
     "text": [
      "    9 | 02m23s |   -0.04764 |             0.2520 |             0.5290 |           0.0599 |       9.0839 |      0.3480 |      0.7249 | \n"
     ]
    },
    {
     "name": "stderr",
     "output_type": "stream",
     "text": [
      "/home/g492652607/anaconda3/lib/python3.6/site-packages/sklearn/gaussian_process/gpr.py:457: UserWarning: fmin_l_bfgs_b terminated abnormally with the  state: {'grad': array([-0.00021633]), 'task': b'ABNORMAL_TERMINATION_IN_LNSRCH', 'funcalls': 50, 'nit': 4, 'warnflag': 2}\n",
      "  \" state: %s\" % convergence_dict)\n",
      "/home/g492652607/anaconda3/lib/python3.6/site-packages/sklearn/gaussian_process/gpr.py:457: UserWarning: fmin_l_bfgs_b terminated abnormally with the  state: {'grad': array([0.00081882]), 'task': b'ABNORMAL_TERMINATION_IN_LNSRCH', 'funcalls': 56, 'nit': 8, 'warnflag': 2}\n",
      "  \" state: %s\" % convergence_dict)\n",
      "/home/g492652607/anaconda3/lib/python3.6/site-packages/sklearn/gaussian_process/gpr.py:335: UserWarning: Predicted variances smaller than 0. Setting those variances to 0.\n",
      "  warnings.warn(\"Predicted variances smaller than 0. \"\n"
     ]
    },
    {
     "name": "stdout",
     "output_type": "stream",
     "text": [
      "   10 | 09m01s | \u001b[35m  -0.04674\u001b[0m | \u001b[32m            0.9549\u001b[0m | \u001b[32m            0.3765\u001b[0m | \u001b[32m          0.0896\u001b[0m | \u001b[32m    261.8230\u001b[0m | \u001b[32m     5.8023\u001b[0m | \u001b[32m     0.9675\u001b[0m | \n"
     ]
    },
    {
     "name": "stderr",
     "output_type": "stream",
     "text": [
      "/home/g492652607/anaconda3/lib/python3.6/site-packages/sklearn/gaussian_process/gpr.py:457: UserWarning: fmin_l_bfgs_b terminated abnormally with the  state: {'grad': array([5.24499246e-05]), 'task': b'ABNORMAL_TERMINATION_IN_LNSRCH', 'funcalls': 57, 'nit': 5, 'warnflag': 2}\n",
      "  \" state: %s\" % convergence_dict)\n",
      "/home/g492652607/anaconda3/lib/python3.6/site-packages/sklearn/gaussian_process/gpr.py:335: UserWarning: Predicted variances smaller than 0. Setting those variances to 0.\n",
      "  warnings.warn(\"Predicted variances smaller than 0. \"\n"
     ]
    },
    {
     "name": "stdout",
     "output_type": "stream",
     "text": [
      "   11 | 08m40s |   -0.04707 |             0.2274 |             7.4828 |           0.1329 |    1019.7020 |      9.8296 |      0.9545 | \n"
     ]
    },
    {
     "name": "stderr",
     "output_type": "stream",
     "text": [
      "/home/g492652607/anaconda3/lib/python3.6/site-packages/sklearn/gaussian_process/gpr.py:457: UserWarning: fmin_l_bfgs_b terminated abnormally with the  state: {'grad': array([-0.00032476]), 'task': b'ABNORMAL_TERMINATION_IN_LNSRCH', 'funcalls': 52, 'nit': 4, 'warnflag': 2}\n",
      "  \" state: %s\" % convergence_dict)\n",
      "/home/g492652607/anaconda3/lib/python3.6/site-packages/sklearn/gaussian_process/gpr.py:335: UserWarning: Predicted variances smaller than 0. Setting those variances to 0.\n",
      "  warnings.warn(\"Predicted variances smaller than 0. \"\n"
     ]
    },
    {
     "name": "stdout",
     "output_type": "stream",
     "text": [
      "   12 | 05m49s |   -0.04696 |             0.6290 |             0.0309 |           0.1727 |     292.6259 |      9.6348 |      0.6791 | \n"
     ]
    },
    {
     "name": "stderr",
     "output_type": "stream",
     "text": [
      "/home/g492652607/anaconda3/lib/python3.6/site-packages/sklearn/gaussian_process/gpr.py:457: UserWarning: fmin_l_bfgs_b terminated abnormally with the  state: {'grad': array([-2.79117376e-05]), 'task': b'ABNORMAL_TERMINATION_IN_LNSRCH', 'funcalls': 55, 'nit': 5, 'warnflag': 2}\n",
      "  \" state: %s\" % convergence_dict)\n",
      "/home/g492652607/anaconda3/lib/python3.6/site-packages/sklearn/gaussian_process/gpr.py:335: UserWarning: Predicted variances smaller than 0. Setting those variances to 0.\n",
      "  warnings.warn(\"Predicted variances smaller than 0. \"\n"
     ]
    },
    {
     "name": "stdout",
     "output_type": "stream",
     "text": [
      "   13 | 03m18s |   -0.04723 |             0.9898 |             3.6146 |           0.6539 |     200.5611 |      4.3133 |      0.5436 | \n"
     ]
    },
    {
     "name": "stderr",
     "output_type": "stream",
     "text": [
      "/home/g492652607/anaconda3/lib/python3.6/site-packages/sklearn/gaussian_process/gpr.py:457: UserWarning: fmin_l_bfgs_b terminated abnormally with the  state: {'grad': array([0.00152729]), 'task': b'ABNORMAL_TERMINATION_IN_LNSRCH', 'funcalls': 47, 'nit': 3, 'warnflag': 2}\n",
      "  \" state: %s\" % convergence_dict)\n",
      "/home/g492652607/anaconda3/lib/python3.6/site-packages/sklearn/gaussian_process/gpr.py:335: UserWarning: Predicted variances smaller than 0. Setting those variances to 0.\n",
      "  warnings.warn(\"Predicted variances smaller than 0. \"\n"
     ]
    },
    {
     "name": "stdout",
     "output_type": "stream",
     "text": [
      "   14 | 15m33s |   -0.04675 |             0.9137 |             0.2652 |           0.0153 |     671.0130 |      3.5482 |      0.7819 | \n"
     ]
    },
    {
     "name": "stderr",
     "output_type": "stream",
     "text": [
      "/home/g492652607/anaconda3/lib/python3.6/site-packages/sklearn/gaussian_process/gpr.py:457: UserWarning: fmin_l_bfgs_b terminated abnormally with the  state: {'grad': array([-0.00073346]), 'task': b'ABNORMAL_TERMINATION_IN_LNSRCH', 'funcalls': 47, 'nit': 4, 'warnflag': 2}\n",
      "  \" state: %s\" % convergence_dict)\n",
      "/home/g492652607/anaconda3/lib/python3.6/site-packages/sklearn/gaussian_process/gpr.py:457: UserWarning: fmin_l_bfgs_b terminated abnormally with the  state: {'grad': array([-0.00146461]), 'task': b'ABNORMAL_TERMINATION_IN_LNSRCH', 'funcalls': 50, 'nit': 4, 'warnflag': 2}\n",
      "  \" state: %s\" % convergence_dict)\n",
      "/home/g492652607/anaconda3/lib/python3.6/site-packages/sklearn/gaussian_process/gpr.py:457: UserWarning: fmin_l_bfgs_b terminated abnormally with the  state: {'grad': array([-0.00053295]), 'task': b'ABNORMAL_TERMINATION_IN_LNSRCH', 'funcalls': 49, 'nit': 5, 'warnflag': 2}\n",
      "  \" state: %s\" % convergence_dict)\n",
      "/home/g492652607/anaconda3/lib/python3.6/site-packages/sklearn/gaussian_process/gpr.py:457: UserWarning: fmin_l_bfgs_b terminated abnormally with the  state: {'grad': array([-1.76404137e-05]), 'task': b'ABNORMAL_TERMINATION_IN_LNSRCH', 'funcalls': 84, 'nit': 7, 'warnflag': 2}\n",
      "  \" state: %s\" % convergence_dict)\n",
      "/home/g492652607/anaconda3/lib/python3.6/site-packages/sklearn/gaussian_process/gpr.py:335: UserWarning: Predicted variances smaller than 0. Setting those variances to 0.\n",
      "  warnings.warn(\"Predicted variances smaller than 0. \"\n"
     ]
    }
   ],
   "source": [
    "def lgb_evaluate(min_child_weight,\n",
    "                 colsample_bytree,\n",
    "                 num_leaves,\n",
    "                 subsample,\n",
    "                 min_split_gain,\n",
    "                 reg_alpha):\n",
    "\n",
    "\n",
    "    cv_result = cross_val_score(LGBMRegressor(min_child_weight= int(min_child_weight),\n",
    "                                            colsample_bytree=max(min(colsample_bytree, 1), 0),\n",
    "                                            num_leaves=int(num_leaves),\n",
    "                                            subsample=max(min(subsample, 1), 0),\n",
    "                                            min_split_gain=max(min_split_gain, 0),\n",
    "                                            reg_alpha = max(reg_alpha, 0)\n",
    "                                            ),\n",
    "                                X, y, 'neg_mean_squared_error', cv=5).mean()\n",
    "    return cv_result\n",
    "\n",
    "\n",
    "num_iter = 20\n",
    "init_points = 5\n",
    "\n",
    "lgbBO = BayesianOptimization(lgb_evaluate, {'min_child_weight': (0, 10),\n",
    "                                                'colsample_bytree': (0.1, 1),\n",
    "                                                'num_leaves': (8, 1024),\n",
    "                                                'subsample': (0.5, 1),\n",
    "                                                'min_split_gain': (0, 10),\n",
    "                                                'reg_alpha': (0, 10),\n",
    "                                                })\n",
    "\n",
    "lgbBO.maximize(init_points=init_points, n_iter=num_iter)\n",
    "\n",
    "print('Final Results')\n",
    "print('lgb: %f' % lgbBO.res['max']['max_val'])\n",
    "print(lgbBO.res['max']['max_params'])"
   ]
  },
  {
   "cell_type": "code",
   "execution_count": null,
   "metadata": {},
   "outputs": [],
   "source": []
  }
 ],
 "metadata": {
  "kernelspec": {
   "display_name": "Python 3",
   "language": "python",
   "name": "python3"
  },
  "language_info": {
   "codemirror_mode": {
    "name": "ipython",
    "version": 3
   },
   "file_extension": ".py",
   "mimetype": "text/x-python",
   "name": "python",
   "nbconvert_exporter": "python",
   "pygments_lexer": "ipython3",
   "version": "3.6.4"
  }
 },
 "nbformat": 4,
 "nbformat_minor": 1
}
